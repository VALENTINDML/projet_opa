{
 "cells": [
  {
   "cell_type": "code",
   "execution_count": null,
   "id": "fd5ee3d7",
   "metadata": {},
   "outputs": [],
   "source": [
    "import pandas as pd\n",
    "import numpy as np\n",
    "from sklearn.ensemble import RandomForestRegressor\n",
    "from sklearn.model_selection import train_test_split\n",
    "from sklearn.metrics import mean_absolute_error, mean_squared_error, r2_score\n",
    "import joblib\n",
    "from pathlib import Path\n",
    "import datetime"
   ]
  },
  {
   "cell_type": "code",
   "execution_count": null,
   "id": "3d19dd4c",
   "metadata": {},
   "outputs": [],
   "source": [
    "!where"
   ]
  },
  {
   "cell_type": "code",
   "execution_count": null,
   "id": "a5cfaf34",
   "metadata": {},
   "outputs": [],
   "source": []
  },
  {
   "cell_type": "code",
   "execution_count": null,
   "id": "38fa641f",
   "metadata": {},
   "outputs": [],
   "source": [
    "today = datetime.datetime.now().strftime(\"%Y-%m-%d\")\n",
    "csv_path = Path(f\"binance_trades_{today}.csv\") # Mise en place d'un nouveau fichier charque jours si il existe"
   ]
  },
  {
   "cell_type": "code",
   "execution_count": null,
   "id": "f6f0ba5b",
   "metadata": {},
   "outputs": [],
   "source": [
    "if csv_path.exists():\n",
    "    df = pd.read_csv(csv_path)\n",
    "    print(f\"Le fichier {csv_path} à été chargé\") # Condition pour entrainer le modele"
   ]
  },
  {
   "cell_type": "code",
   "execution_count": null,
   "id": "f3f097e7",
   "metadata": {},
   "outputs": [],
   "source": [
    "# Nettoyage et conversion\n",
    "df['timestamp'] = pd.to_datetime(df['timestamp'], errors='coerce')\n",
    "df['price'] = pd.to_numeric(df['price'], errors='coerce')\n",
    "df['quantity'] = pd.to_numeric(df['quantity'], errors='coerce')\n",
    "df.dropna(inplace=True)"
   ]
  },
  {
   "cell_type": "code",
   "execution_count": null,
   "id": "e9544490",
   "metadata": {},
   "outputs": [],
   "source": [
    "# Créer la variable cible : le prix du prochain trade\n",
    "df['next_price'] = df['price'].shift(-1)\n",
    "df.dropna(inplace=True)"
   ]
  },
  {
   "cell_type": "code",
   "execution_count": null,
   "id": "3b49a365",
   "metadata": {},
   "outputs": [],
   "source": [
    "# Définir les features et la target\n",
    "X = df[['price', 'quantity']]\n",
    "y = df['next_price']"
   ]
  },
  {
   "cell_type": "code",
   "execution_count": null,
   "id": "57f64927",
   "metadata": {},
   "outputs": [],
   "source": [
    "# Séparer les données\n",
    "X_train, X_test, y_train, y_test = train_test_split(X, y, test_size=0.2, random_state=42)"
   ]
  },
  {
   "cell_type": "code",
   "execution_count": null,
   "id": "612b8139",
   "metadata": {},
   "outputs": [],
   "source": [
    "# Entraîner un modèle de régression\n",
    "model = RandomForestRegressor(n_estimators=100, random_state=42)\n",
    "model.fit(X_train, y_train)"
   ]
  },
  {
   "cell_type": "code",
   "execution_count": null,
   "id": "89e9de25",
   "metadata": {},
   "outputs": [],
   "source": [
    "# Évaluer le modèle\n",
    "y_pred = model.predict(X_test)\n",
    "mae = mean_absolute_error(y_test, y_pred)\n",
    "rmse = np.sqrt(mean_squared_error(y_test, y_pred))\n",
    "r2 = r2_score(y_test, y_pred)"
   ]
  },
  {
   "cell_type": "code",
   "execution_count": null,
   "id": "d4a92333",
   "metadata": {},
   "outputs": [],
   "source": [
    "print(\"MAE:\", mae)\n",
    "print(\"RMSE:\", rmse)\n",
    "print(\"R2 Score:\", r2)"
   ]
  },
  {
   "cell_type": "code",
   "execution_count": null,
   "id": "8ef663cb",
   "metadata": {},
   "outputs": [],
   "source": [
    "# Sauvegarder le modèle pour l'utiliser plus tard dans une API\n",
    "joblib.dump(model, \"model.pkl\")\n",
    "print(\"✅ Modèle enregistré sous model.pkl\")"
   ]
  },
  {
   "cell_type": "code",
   "execution_count": null,
   "id": "3b58f313",
   "metadata": {},
   "outputs": [],
   "source": [
    "else :\n",
    "    print(f\"Aucun fichier trouvé le {\"today\"}\") # Si aucun fichier ce jour"
   ]
  }
 ],
 "metadata": {
  "jupytext": {
   "cell_metadata_filter": "-all",
   "main_language": "python",
   "notebook_metadata_filter": "-all"
  },
  "language_info": {
   "name": "python"
  }
 },
 "nbformat": 4,
 "nbformat_minor": 5
}
